{
 "cells": [
  {
   "cell_type": "markdown",
   "metadata": {},
   "source": [
    "\n",
    "Orchestrating molecules and crystals using ASE\n",
    "==========\n",
    "\n",
    "- **Complexity level**: intermediate\n",
    "- **Requirements**: basic knowledge of crystallography and Python\n",
    "\n"
   ]
  },
  {
   "cell_type": "code",
   "execution_count": null,
   "metadata": {},
   "outputs": [],
   "source": [
    "!pip install ase\n",
    "import ase\n",
    "ase.__version__"
   ]
  },
  {
   "cell_type": "markdown",
   "metadata": {},
   "source": [
    "\n",
    "Which ASE version was installed? Note, you can also install specific version of a package with: `!pip install some_nice_package==0.42.0`\n",
    "\n",
    "Let's continue.\n"
   ]
  },
  {
   "cell_type": "code",
   "execution_count": null,
   "metadata": {},
   "outputs": [],
   "source": [
"from io import StringIO\n",
"from ase import Atom, Atoms\n",
"from ase.spacegroup import crystal\n",
"from ase.calculators.emt import EMT\n",
"from ase.optimize import BFGS\n",
"from ase.io.vasp import read_vasp\n",
"from ase.io import write\n",
"from ase.build import surface\n",
"from ase.geometry import cell_to_cellpar\n",
"import spglib  # Gotcha here :-) a reader is expected to fix an error"
   ]
  },
  {
   "cell_type": "markdown",
   "metadata": {},
   "source": [
    "\n",
    "These are all the imports we need today.\n",
    "\n",
    "Let's build a non-periodic molecule and then create a periodic structure from it.\n"
   ]
  },
  {
   "cell_type": "code",
   "execution_count": null,
   "metadata": {},
   "outputs": [],
   "source": [
"molecule = Atoms('OCCHHHHHH', positions=[\n",
"    [-1.1712,  0.2997,  0     ],         \n",
"    [-0.0463, -0.5665,  0     ],         \n",
"    [ 1.2175,  0.2668,  0     ],         \n",
"    [-0.0958, -1.212,   0.8819],         \n",
"    [-0.0952, -1.1938, -0.8946],         \n",
"    [ 2.105,  -0.372,  -0.0177],         \n",
"    [ 1.2426,  0.9307, -0.8704],         \n",
"    [ 1.2616,  0.9052,  0.8886],         \n",
"    [-1.1291,  0.8364,  0.8099],         \n",
"])                                       \n",
"periodic_molecule = Atoms([atom for atom in molecule], cell=(12, 12, 12), pbc=True)"
   ]
  },
  {
   "cell_type": "markdown",
   "metadata": {},
   "source": [
    "\n",
    "We have now `molecule` and `periodic_molecule`. What is the difference?\n",
    "\n",
    "Let's visualize what we have built.\n"
   ]
  },
  {
   "cell_type": "code",
   "execution_count": null,
   "metadata": {},
   "outputs": [],
   "source": [
"write('-', molecule, format='vasp')  # Gotcha here :-) a reader is expected to fix an error"
   ]
  },
  {
   "cell_type": "markdown",
   "metadata": {},
   "source": [
    "\n",
    "Here are some more functions we might use.\n",
    "\n",
    "This is `refine`:\n"
   ]
  },
  {
   "cell_type": "code",
   "execution_count": null,
   "metadata": {},
   "outputs": [],
   "source": [
"def refine(ase_obj, accuracy=1E-03, conventional_cell=False):                    \n",
"    try:                                                                         \n",
"        symmetry = spglib.get_spacegroup(ase_obj, symprec=accuracy)              \n",
"        lattice, positions, numbers = spglib.standardize_cell(ase_obj,           \n",
"            symprec=accuracy, to_primitive=not conventional_cell)                \n",
"    except:                                                                      \n",
"        return None, 'Error while structure refinement'                          \n",
"    try:                                                                         \n",
"        spacegroup = int( symmetry.split()[1].replace('(', '').replace(')', '') )\n",
"    except (ValueError, IndexError, AttributeError):                             \n",
"        return None, 'Symmetry error (coinciding atoms?) in structure'           \n",
"    try:                                                                         \n",
"        return crystal(                                                          \n",
"            Atoms(                                                               \n",
"                numbers=numbers,                                                 \n",
"                cell=lattice,                                                    \n",
"                scaled_positions=positions,                                      \n",
"                pbc=True                                                         \n",
"            ),                                                                   \n",
"            spacegroup=spacegroup,                                               \n",
"            primitive_cell=not conventional_cell,                                \n",
"            onduplicates='replace'                                               \n",
"        ), None                                                                  \n",
"    except:                                                                      \n",
"        return None, 'Unrecognized sites or invalid site symmetry in structure'    "
   ]
  },
  {
   "cell_type": "markdown",
   "metadata": {},
   "source": [
    "\n",
    "This is `poscar_to_ase`:\n"
   ]
  },
  {
   "cell_type": "code",
   "execution_count": null,
   "metadata": {},
   "outputs": [],
   "source": [
"def poscar_to_ase(poscar_string):                                 \n",
"    ase_obj, error = None, None                                   \n",
"    buff = StringIO(poscar_string)                                \n",
"    try:                                                          \n",
"        ase_obj = read_vasp(buff)                                 \n",
"    except AttributeError:                                        \n",
"        error = 'Types of atoms can be neither found nor inferred'\n",
"    except Exception:                                             \n",
"        error = 'Cannot process POSCAR: invalid or missing data'  \n",
"    buff.close()                                                  \n",
"    return ase_obj, error                                           "
   ]
  },
  {
   "cell_type": "markdown",
   "metadata": {},
   "source": [
    "\n",
    "Let's have a look what we can do more:\n"
   ]
  },
  {
   "cell_type": "code",
   "execution_count": null,
   "metadata": {},
   "outputs": [],
   "source": [
"crystal_obj.get_chemical_formula()\n",
"crystal_obj *= (2, 2, 2)\n",
"obj2d = surface(crystal_obj, (0, 0, 1), 5, periodic=True)"
   ]
  },
  {
   "cell_type": "markdown",
   "metadata": {},
   "source": [
    "\n",
    "Try to write a function calculating a volume of the primitive cell for any ASE crystalline structure. It is given by the determinant of the cell parameters 3x3 matrix. In ASE it's a `.cell` attribute of your crystal structure object.\n",
    "\n",
    "Hint: you'll need a `det` function from the `numpy.linalg` Python package.\n"
   ]
  },
  {
   "cell_type": "code",
   "execution_count": null,
   "metadata": {},
   "outputs": [],
   "source": [
"# use this cell for your custom Python code\n",
"# copy and paste your code here from the slides and the other cells"
   ]
  }
 ],
 "metadata": {},
 "nbformat": 4,
 "nbformat_minor": 2
}
