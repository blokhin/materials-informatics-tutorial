{
 "cells": [
  {
   "cell_type": "markdown",
   "metadata": {},
   "source": [
    "\n",
    "Getting data from the online databases with Optimade\n",
    "==========\n",
    "\n",
    "- **Complexity level**: intermediate\n",
    "- **Requirements**: crystallography, Python, understanding how the internet works\n",
    "\n"
   ]
  },
  {
   "cell_type": "code",
   "execution_count": null,
   "metadata": {},
   "outputs": [],
   "source": [
    "!pip install optimade[http_client]\n",
    "from optimade.client import OptimadeClient"
   ]
  },
  {
   "cell_type": "code",
   "execution_count": null,
   "metadata": {},
   "outputs": [],
   "source": [
"!pip install ase                                 \n",
"import re                                        \n",
"from ase import Atom, Atoms                      \n",
"                                                 \n",
"client = OptimadeClient(max_results_per_provider=5)"
   ]
  },
  {
   "cell_type": "code",
   "execution_count": null,
   "metadata": {},
   "outputs": [],
   "source": [
"def optimade_to_ase(structure, skip_disorder=False):                                      \n",
"                                                                                          \n",
"    def extract_chemical_element(str):                                                    \n",
"        return re.sub('\\W', '', str)                                                     \n",
"                                                                                          \n",
"    if type(structure) == str:                                                            \n",
"        structure = json.loads(structure)                                                 \n",
"                                                                                          \n",
"    if 'cartesian_site_positions' not in structure['attributes'] or \\\n",
"        'lattice_vectors' not in structure['attributes']:                                 \n",
"        return None, 'Invalid structure'                                                  \n",
"                                                                                          \n",
"    if 'data' in structure and type(structure['data']) == list and len(structure['data']):\n",
"        structure = structure['data'][0]                                                  \n",
"                                                                                          \n",
"    elems_src, atom_data, atom_meta = [], [], {}                                          \n",
"    if 'species' in structure['attributes']:                                              \n",
"        for n, specie in enumerate(structure['attributes']['species']):                   \n",
"            # account isotopes                                                            \n",
"            if specie['chemical_symbols'][0] == 'D':                                      \n",
"                specie['chemical_symbols'][0] = 'H'                                       \n",
"                atom_meta[n] = 'D'                                                        \n",
"                                                                                          \n",
"            elems_src.append(specie['chemical_symbols'][0])                               \n",
"            if not skip_disorder and len(specie['chemical_symbols']) > 1:                 \n",
"                if 'concentration' not in specie:                                         \n",
"                    return None, 'Atomic disorder data incomplete'                        \n",
"                return None, 'Structural disorder is not supported'                       \n",
"                                                                                          \n",
"    if len(structure['attributes'].get('species', [])) != \\\n",
"        len(structure['attributes']['cartesian_site_positions']):                         \n",
"        elems_src = structure['attributes'].get('species_at_sites',                       \n",
"            structure['attributes'].get('elements', [])                                   \n",
"        )                                                                                 \n",
"    for n, pos in enumerate(structure['attributes']['cartesian_site_positions']):         \n",
"        try:                                                                              \n",
"            atom_data.append(                                                             \n",
"                Atom(extract_chemical_element(elems_src[n]), pos)                         \n",
"            )                                                                             \n",
"        except KeyError as exc: # TODO link *species_at_sites* <-> *species*              \n",
"            return None, 'Unrecognized atom symbol: %s' % exc                             \n",
"                                                                                          \n",
"    if not atom_data:                                                                     \n",
"        return None, 'Atoms missing'                                                      \n",
"                                                                                          \n",
"    return Atoms(                                                                         \n",
"        atom_data,                                                                        \n",
"        cell=structure['attributes']['lattice_vectors'],                                  \n",
"        pbc=structure['attributes'].get('dimension_types') or True,                       \n",
"        info=dict(isotopes=atom_meta) if atom_meta else {}                                \n",
"    ), None                                                                                 "
   ]
  },
  {
   "cell_type": "code",
   "execution_count": null,
   "metadata": {},
   "outputs": [],
   "source": [
"query = '' # put your query  \n",
"howmany = client.count(query)\n",
"from pprint import pprint    \n",
"pprint(howmany)                "
   ]
  },
  {
   "cell_type": "markdown",
   "metadata": {},
   "source": [
    "\n",
    "Let's try to prepare our results for a machine-learning task, calculating the structure descriptors. ",
    "Recall, the term *descriptor* stands for the compact information-rich number, allowing the convenient mathematical ",
    "treatment of the encoded complex data (crystalline structure, in our case). The descriptors ",
    "are heavily used in machine learning to predict the new information statistically based ",
    "on the existing information. Let's have a look at the *atomic packing factor descriptor*, ",
    "defined per a unit cell, as given in the function `get_apf` below. (It is up to the reader to check the other possible descriptors ",
    "for the crystalline structures!)\n",
    "                                                                                             \n",
    "Then let's try to do the following:                                                           \n",
    "                                                                                             \n",
    "- retrieve one or many structures for certain queries                                        \n",
    "- visualize any retrieved structure using an online visualizer                               \n",
    "- calculate the atomic packing factor *descriptor* for the structures                        \n",
    "\n"
   ]
  },
  {
   "cell_type": "code",
   "execution_count": null,
   "metadata": {},
   "outputs": [],
   "source": [
"import numpy as np                                                                    \n",
"from ase.data import covalent_radii, chemical_symbols                                 \n",
"                                                                                      \n",
"def get_apf(ase_obj):                                                                 \n",
"    volume = 0.0                                                                      \n",
"    for atom in ase_obj:                                                              \n",
"        volume += 4/3 * np.pi * covalent_radii[chemical_symbols.index(atom.symbol)]**3\n",
"    return volume / abs(np.linalg.det(ase_obj.cell))                                    "
   ]
  },
  {
   "cell_type": "code",
   "execution_count": null,
   "metadata": {},
   "outputs": [],
   "source": [
"client = OptimadeClient(max_results_per_provider=5)          \n",
"query = 'chemical_formula_anonymous=\"ABCD4\"'               \n",
"results = client.get(query)                                  \n",
"for provider, answer in results['structures'][query].items():\n",
"    print('=' * 25, provider, '=' * 25)                      \n",
"    for optimade_item in answer['data']:                     \n",
"        ase_obj, error = optimade_to_ase(optimade_item)      \n",
"        if error:                                            \n",
"            print('=' * 25, error)                           \n",
"            continue                                         \n",
"        print(ase_obj)                                         "
   ]
  }
 ],
 "metadata": {},
 "nbformat": 4,
 "nbformat_minor": 2
}
